{
 "cells": [
  {
   "cell_type": "code",
   "execution_count": 2,
   "id": "12e03e13",
   "metadata": {},
   "outputs": [],
   "source": [
    "import sqlalchemy\n",
    "import pandas as pd"
   ]
  },
  {
   "cell_type": "code",
   "execution_count": 4,
   "id": "c3ea5b16",
   "metadata": {},
   "outputs": [],
   "source": [
    "engine = sqlalchemy.create_engine('sqlite:///sql_test.db', echo=True)\n",
    "sqlite_connection = engine.connect()\n"
   ]
  },
  {
   "cell_type": "code",
   "execution_count": 5,
   "id": "1191a68b",
   "metadata": {},
   "outputs": [],
   "source": [
    "df = pd.DataFrame([[1,2,3],\n",
    "                   [4,5,6],\n",
    "                   [7,8,9]], columns=['A', 'B', 'C'])"
   ]
  },
  {
   "cell_type": "code",
   "execution_count": 15,
   "id": "ad61cc4c",
   "metadata": {},
   "outputs": [
    {
     "name": "stdout",
     "output_type": "stream",
     "text": [
      "2022-05-18 10:31:53,714 INFO sqlalchemy.engine.Engine PRAGMA main.table_info(\"Covid19\")\n",
      "2022-05-18 10:31:53,721 INFO sqlalchemy.engine.Engine [raw sql] ()\n",
      "2022-05-18 10:31:53,725 INFO sqlalchemy.engine.Engine PRAGMA main.table_info(\"Covid19\")\n",
      "2022-05-18 10:31:53,728 INFO sqlalchemy.engine.Engine [raw sql] ()\n",
      "2022-05-18 10:31:53,729 INFO sqlalchemy.engine.Engine SELECT name FROM sqlite_master WHERE type='table' ORDER BY name\n",
      "2022-05-18 10:31:53,729 INFO sqlalchemy.engine.Engine [raw sql] ()\n",
      "2022-05-18 10:31:53,730 INFO sqlalchemy.engine.Engine PRAGMA main.table_xinfo(\"Covid19\")\n",
      "2022-05-18 10:31:53,731 INFO sqlalchemy.engine.Engine [raw sql] ()\n",
      "2022-05-18 10:31:53,731 INFO sqlalchemy.engine.Engine SELECT sql FROM  (SELECT * FROM sqlite_master UNION ALL   SELECT * FROM sqlite_temp_master) WHERE name = ? AND type = 'table'\n",
      "2022-05-18 10:31:53,732 INFO sqlalchemy.engine.Engine [raw sql] ('Covid19',)\n",
      "2022-05-18 10:31:53,733 INFO sqlalchemy.engine.Engine PRAGMA main.foreign_key_list(\"Covid19\")\n",
      "2022-05-18 10:31:53,733 INFO sqlalchemy.engine.Engine [raw sql] ()\n",
      "2022-05-18 10:31:53,734 INFO sqlalchemy.engine.Engine PRAGMA temp.foreign_key_list(\"Covid19\")\n",
      "2022-05-18 10:31:53,734 INFO sqlalchemy.engine.Engine [raw sql] ()\n",
      "2022-05-18 10:31:53,734 INFO sqlalchemy.engine.Engine SELECT sql FROM  (SELECT * FROM sqlite_master UNION ALL   SELECT * FROM sqlite_temp_master) WHERE name = ? AND type = 'table'\n",
      "2022-05-18 10:31:53,735 INFO sqlalchemy.engine.Engine [raw sql] ('Covid19',)\n",
      "2022-05-18 10:31:53,736 INFO sqlalchemy.engine.Engine PRAGMA main.index_list(\"Covid19\")\n",
      "2022-05-18 10:31:53,736 INFO sqlalchemy.engine.Engine [raw sql] ()\n",
      "2022-05-18 10:31:53,737 INFO sqlalchemy.engine.Engine PRAGMA main.index_info(\"ix_Covid19_index\")\n",
      "2022-05-18 10:31:53,737 INFO sqlalchemy.engine.Engine [raw sql] ()\n",
      "2022-05-18 10:31:53,737 INFO sqlalchemy.engine.Engine PRAGMA main.index_list(\"Covid19\")\n",
      "2022-05-18 10:31:53,738 INFO sqlalchemy.engine.Engine [raw sql] ()\n",
      "2022-05-18 10:31:53,738 INFO sqlalchemy.engine.Engine PRAGMA main.index_info(\"ix_Covid19_index\")\n",
      "2022-05-18 10:31:53,738 INFO sqlalchemy.engine.Engine [raw sql] ()\n",
      "2022-05-18 10:31:53,739 INFO sqlalchemy.engine.Engine SELECT sql FROM  (SELECT * FROM sqlite_master UNION ALL   SELECT * FROM sqlite_temp_master) WHERE name = ? AND type = 'table'\n",
      "2022-05-18 10:31:53,739 INFO sqlalchemy.engine.Engine [raw sql] ('Covid19',)\n",
      "2022-05-18 10:31:53,741 INFO sqlalchemy.engine.Engine \n",
      "DROP TABLE \"Covid19\"\n",
      "2022-05-18 10:31:53,741 INFO sqlalchemy.engine.Engine [no key 0.00040s] ()\n",
      "2022-05-18 10:31:53,743 INFO sqlalchemy.engine.Engine COMMIT\n",
      "2022-05-18 10:31:53,744 INFO sqlalchemy.engine.Engine \n",
      "CREATE TABLE \"Covid19\" (\n",
      "\t\"A\" BIGINT, \n",
      "\t\"B\" BIGINT, \n",
      "\t\"C\" BIGINT\n",
      ")\n",
      "\n",
      "\n",
      "2022-05-18 10:31:53,744 INFO sqlalchemy.engine.Engine [no key 0.00033s] ()\n",
      "2022-05-18 10:31:53,746 INFO sqlalchemy.engine.Engine COMMIT\n",
      "2022-05-18 10:31:53,747 INFO sqlalchemy.engine.Engine INSERT INTO \"Covid19\" (\"A\", \"B\", \"C\") VALUES (?, ?, ?)\n",
      "2022-05-18 10:31:53,748 INFO sqlalchemy.engine.Engine [generated in 0.00046s] ((1, 2, 3), (4, 5, 6), (7, 8, 9))\n",
      "2022-05-18 10:31:53,749 INFO sqlalchemy.engine.Engine COMMIT\n",
      "2022-05-18 10:31:53,750 INFO sqlalchemy.engine.Engine SELECT name FROM sqlite_master WHERE type='table' ORDER BY name\n",
      "2022-05-18 10:31:53,750 INFO sqlalchemy.engine.Engine [raw sql] ()\n"
     ]
    },
    {
     "data": {
      "text/plain": [
       "3"
      ]
     },
     "execution_count": 15,
     "metadata": {},
     "output_type": "execute_result"
    }
   ],
   "source": [
    "sqlite_table = \"Covid19\"\n",
    "df.to_sql(sqlite_table, sqlite_connection, if_exists='replace', index=False)"
   ]
  },
  {
   "cell_type": "code",
   "execution_count": 9,
   "id": "acdc269e",
   "metadata": {},
   "outputs": [
    {
     "name": "stdout",
     "output_type": "stream",
     "text": [
      "2022-05-18 10:30:02,273 INFO sqlalchemy.engine.Engine select * from Covid19\n",
      "2022-05-18 10:30:02,276 INFO sqlalchemy.engine.Engine [raw sql] ()\n"
     ]
    }
   ],
   "source": [
    "cursor = sqlite_connection.execute('select * from Covid19')"
   ]
  },
  {
   "cell_type": "code",
   "execution_count": 11,
   "id": "a1d9610d",
   "metadata": {},
   "outputs": [
    {
     "data": {
      "text/plain": [
       "[(0, 1, 2, 3), (1, 4, 5, 6), (2, 7, 8, 9)]"
      ]
     },
     "execution_count": 11,
     "metadata": {},
     "output_type": "execute_result"
    }
   ],
   "source": [
    "cursor.fetchall()"
   ]
  },
  {
   "cell_type": "code",
   "execution_count": 16,
   "id": "0d161a6c",
   "metadata": {},
   "outputs": [
    {
     "name": "stdout",
     "output_type": "stream",
     "text": [
      "2022-05-18 10:31:59,526 INFO sqlalchemy.engine.Engine PRAGMA main.table_info(\"select * from Covid19\")\n",
      "2022-05-18 10:31:59,531 INFO sqlalchemy.engine.Engine [raw sql] ()\n",
      "2022-05-18 10:31:59,536 INFO sqlalchemy.engine.Engine PRAGMA temp.table_info(\"select * from Covid19\")\n",
      "2022-05-18 10:31:59,538 INFO sqlalchemy.engine.Engine [raw sql] ()\n",
      "2022-05-18 10:31:59,539 INFO sqlalchemy.engine.Engine select * from Covid19\n",
      "2022-05-18 10:31:59,540 INFO sqlalchemy.engine.Engine [raw sql] ()\n"
     ]
    },
    {
     "data": {
      "text/html": [
       "<div>\n",
       "<style scoped>\n",
       "    .dataframe tbody tr th:only-of-type {\n",
       "        vertical-align: middle;\n",
       "    }\n",
       "\n",
       "    .dataframe tbody tr th {\n",
       "        vertical-align: top;\n",
       "    }\n",
       "\n",
       "    .dataframe thead th {\n",
       "        text-align: right;\n",
       "    }\n",
       "</style>\n",
       "<table border=\"1\" class=\"dataframe\">\n",
       "  <thead>\n",
       "    <tr style=\"text-align: right;\">\n",
       "      <th></th>\n",
       "      <th>A</th>\n",
       "      <th>B</th>\n",
       "      <th>C</th>\n",
       "    </tr>\n",
       "  </thead>\n",
       "  <tbody>\n",
       "    <tr>\n",
       "      <th>0</th>\n",
       "      <td>1</td>\n",
       "      <td>2</td>\n",
       "      <td>3</td>\n",
       "    </tr>\n",
       "    <tr>\n",
       "      <th>1</th>\n",
       "      <td>4</td>\n",
       "      <td>5</td>\n",
       "      <td>6</td>\n",
       "    </tr>\n",
       "    <tr>\n",
       "      <th>2</th>\n",
       "      <td>7</td>\n",
       "      <td>8</td>\n",
       "      <td>9</td>\n",
       "    </tr>\n",
       "  </tbody>\n",
       "</table>\n",
       "</div>"
      ],
      "text/plain": [
       "   A  B  C\n",
       "0  1  2  3\n",
       "1  4  5  6\n",
       "2  7  8  9"
      ]
     },
     "execution_count": 16,
     "metadata": {},
     "output_type": "execute_result"
    }
   ],
   "source": [
    "pd.read_sql('select * from Covid19', con=engine, index_col=None)"
   ]
  },
  {
   "cell_type": "code",
   "execution_count": null,
   "id": "fc06389b",
   "metadata": {},
   "outputs": [],
   "source": []
  }
 ],
 "metadata": {
  "kernelspec": {
   "display_name": "Python 3 (ipykernel)",
   "language": "python",
   "name": "python3"
  },
  "language_info": {
   "codemirror_mode": {
    "name": "ipython",
    "version": 3
   },
   "file_extension": ".py",
   "mimetype": "text/x-python",
   "name": "python",
   "nbconvert_exporter": "python",
   "pygments_lexer": "ipython3",
   "version": "3.9.7"
  }
 },
 "nbformat": 4,
 "nbformat_minor": 5
}
