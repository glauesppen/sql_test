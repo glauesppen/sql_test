{
 "cells": [
  {
   "cell_type": "code",
   "execution_count": null,
   "id": "c01a23db",
   "metadata": {},
   "outputs": [],
   "source": [
    "!pip install opendatasets"
   ]
  },
  {
   "cell_type": "code",
   "execution_count": null,
   "id": "5f2e62e9",
   "metadata": {},
   "outputs": [],
   "source": [
    "import sqlalchemy\n",
    "import pandas as pd\n",
    "import opendatasets as od"
   ]
  },
  {
   "cell_type": "code",
   "execution_count": null,
   "id": "62613637",
   "metadata": {},
   "outputs": [],
   "source": [
    "engine = sqlalchemy.create_engine('sqlite:///sql_test.db')\n",
    "sqlite_connection = engine.connect()\n",
    "sqlite_table = 'movies'"
   ]
  },
  {
   "cell_type": "code",
   "execution_count": null,
   "id": "fda172a9",
   "metadata": {},
   "outputs": [],
   "source": [
    "def run_query(query, engine):\n",
    "    return pd.read_sql(query, con=engine, index_col=None)"
   ]
  },
  {
   "cell_type": "code",
   "execution_count": null,
   "id": "d5b69515",
   "metadata": {},
   "outputs": [],
   "source": [
    "od.download('https://www.kaggle.com/datasets/anotherbadcode/boxofficecollections')"
   ]
  },
  {
   "cell_type": "code",
   "execution_count": null,
   "id": "40e788c1",
   "metadata": {},
   "outputs": [],
   "source": [
    "df = pd.read_csv('./boxofficecollections/BoxOfficeCollections.csv')"
   ]
  },
  {
   "cell_type": "code",
   "execution_count": null,
   "id": "c1376e77",
   "metadata": {},
   "outputs": [],
   "source": [
    "df.columns = [x.lower().replace(' ', '') for x in df.columns.tolist()]"
   ]
  },
  {
   "cell_type": "code",
   "execution_count": null,
   "id": "34cd75cd",
   "metadata": {},
   "outputs": [],
   "source": [
    "df.to_sql(sqlite_table, sqlite_connection, if_exists='replace', index=False)"
   ]
  },
  {
   "cell_type": "markdown",
   "id": "1b789f32",
   "metadata": {},
   "source": [
    "# SQL Test"
   ]
  },
  {
   "cell_type": "markdown",
   "id": "14ec0af9",
   "metadata": {},
   "source": [
    "#### What is the name of the movie that has the highest IMDB rating in 2017 ?"
   ]
  },
  {
   "cell_type": "code",
   "execution_count": null,
   "id": "d4719531",
   "metadata": {},
   "outputs": [],
   "source": [
    "query = '''\n",
    "'''\n",
    "run_query(query, engine)"
   ]
  },
  {
   "cell_type": "markdown",
   "id": "7628813e",
   "metadata": {},
   "source": [
    "#### How many comedy/action/sci-fi ... films are made each year ?"
   ]
  },
  {
   "cell_type": "code",
   "execution_count": null,
   "id": "5c52e634",
   "metadata": {},
   "outputs": [],
   "source": [
    "query = '''\n",
    "select Movie from movies\n",
    "where Year = \"2017\"\n",
    "and imdbrating = (select max(imdbrating) from movies where year = \"2017\")\n",
    "'''\n",
    "run_query(query, engine)"
   ]
  },
  {
   "cell_type": "markdown",
   "id": "6e72340a",
   "metadata": {},
   "source": [
    "#### Select those comedy movies made in 2020 that are rated higher than the average comedy movie (based on imdb rating)"
   ]
  },
  {
   "cell_type": "code",
   "execution_count": null,
   "id": "acf2f79b",
   "metadata": {},
   "outputs": [],
   "source": [
    "query = '''\n",
    "'''\n",
    "run_query(query, engine)"
   ]
  },
  {
   "cell_type": "markdown",
   "id": "25252226",
   "metadata": {},
   "source": [
    "#### List the best movies from every year in a chronological order (based on imdb rating)"
   ]
  },
  {
   "cell_type": "code",
   "execution_count": null,
   "id": "7b62e789",
   "metadata": {},
   "outputs": [],
   "source": [
    "query = '''\n",
    "\n",
    "'''\n",
    "run_query(query, engine)"
   ]
  },
  {
   "cell_type": "markdown",
   "id": "052aafd9",
   "metadata": {},
   "source": [
    "#### Which director has worked with the highest number of actors ?"
   ]
  },
  {
   "cell_type": "code",
   "execution_count": null,
   "id": "67dddb10",
   "metadata": {},
   "outputs": [],
   "source": [
    "query = '''\n",
    "\n",
    "'''\n",
    "run_query(query, engine)"
   ]
  }
 ],
 "metadata": {
  "kernelspec": {
   "display_name": "Python 3 (ipykernel)",
   "language": "python",
   "name": "python3"
  },
  "language_info": {
   "codemirror_mode": {
    "name": "ipython",
    "version": 3
   },
   "file_extension": ".py",
   "mimetype": "text/x-python",
   "name": "python",
   "nbconvert_exporter": "python",
   "pygments_lexer": "ipython3",
   "version": "3.9.7"
  }
 },
 "nbformat": 4,
 "nbformat_minor": 5
}
