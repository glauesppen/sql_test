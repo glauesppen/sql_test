{
 "cells": [
  {
   "cell_type": "code",
   "execution_count": null,
   "id": "c7b9df2b",
   "metadata": {},
   "outputs": [],
   "source": [
    "!pip install opendatasets"
   ]
  },
  {
   "cell_type": "code",
   "execution_count": 1,
   "id": "e36a7028",
   "metadata": {},
   "outputs": [],
   "source": [
    "import sqlalchemy\n",
    "import pandas as pd\n",
    "import opendatasets as od"
   ]
  },
  {
   "cell_type": "code",
   "execution_count": 5,
   "id": "1c5dc1aa",
   "metadata": {},
   "outputs": [],
   "source": [
    "engine = sqlalchemy.create_engine('sqlite:///sql_test.db')\n",
    "sqlite_connection = engine.connect()\n",
    "sqlite_table = 'movies'"
   ]
  },
  {
   "cell_type": "code",
   "execution_count": 3,
   "id": "dc82818b",
   "metadata": {},
   "outputs": [],
   "source": [
    "def run_query(query, engine):\n",
    "    return pd.read_sql(query, con=engine, index_col=None)"
   ]
  },
  {
   "cell_type": "code",
   "execution_count": 4,
   "id": "52d21292",
   "metadata": {},
   "outputs": [
    {
     "name": "stdout",
     "output_type": "stream",
     "text": [
      "Skipping, found downloaded files in \"./boxofficecollections\" (use force=True to force download)\n"
     ]
    }
   ],
   "source": [
    "od.download('https://www.kaggle.com/datasets/anotherbadcode/boxofficecollections')"
   ]
  },
  {
   "cell_type": "code",
   "execution_count": 7,
   "id": "4515a495",
   "metadata": {},
   "outputs": [],
   "source": [
    "df = pd.read_csv('./boxofficecollections/BoxOfficeCollections.csv')"
   ]
  },
  {
   "cell_type": "code",
   "execution_count": 8,
   "id": "ef2ec5df",
   "metadata": {},
   "outputs": [
    {
     "data": {
      "text/plain": [
       "1378"
      ]
     },
     "execution_count": 8,
     "metadata": {},
     "output_type": "execute_result"
    }
   ],
   "source": [
    "df.to_sql(sqlite_table, sqlite_connection, if_exists='replace', index=False)"
   ]
  },
  {
   "cell_type": "markdown",
   "id": "1cd20f97",
   "metadata": {},
   "source": [
    "# SQL Test"
   ]
  },
  {
   "cell_type": "markdown",
   "id": "216fbaa6",
   "metadata": {},
   "source": [
    "#### Select the first 5 rows from the movies table"
   ]
  },
  {
   "cell_type": "code",
   "execution_count": 11,
   "id": "aaddefa3",
   "metadata": {},
   "outputs": [
    {
     "data": {
      "text/html": [
       "<div>\n",
       "<style scoped>\n",
       "    .dataframe tbody tr th:only-of-type {\n",
       "        vertical-align: middle;\n",
       "    }\n",
       "\n",
       "    .dataframe tbody tr th {\n",
       "        vertical-align: top;\n",
       "    }\n",
       "\n",
       "    .dataframe thead th {\n",
       "        text-align: right;\n",
       "    }\n",
       "</style>\n",
       "<table border=\"1\" class=\"dataframe\">\n",
       "  <thead>\n",
       "    <tr style=\"text-align: right;\">\n",
       "      <th></th>\n",
       "      <th>Movie</th>\n",
       "      <th>Year</th>\n",
       "      <th>Score</th>\n",
       "      <th>Adjusted Score</th>\n",
       "      <th>Director</th>\n",
       "      <th>Cast</th>\n",
       "      <th>Consensus</th>\n",
       "      <th>Box Office Collection</th>\n",
       "      <th>Imdb_genre</th>\n",
       "      <th>IMDB Rating</th>\n",
       "      <th>metascore</th>\n",
       "      <th>time_minute</th>\n",
       "      <th>Votes</th>\n",
       "    </tr>\n",
       "  </thead>\n",
       "  <tbody>\n",
       "    <tr>\n",
       "      <th>0</th>\n",
       "      <td>Hot Rod</td>\n",
       "      <td>2007</td>\n",
       "      <td>39</td>\n",
       "      <td>42.918</td>\n",
       "      <td>Akiva Schaffer</td>\n",
       "      <td>Andy Samberg, Jorma Taccone, Bill Hader, Danny...</td>\n",
       "      <td>For Rod Kimball (Andy Samberg), performing stu...</td>\n",
       "      <td>14371564.0</td>\n",
       "      <td>Comedy</td>\n",
       "      <td>6.7</td>\n",
       "      <td>43.0</td>\n",
       "      <td>88.0</td>\n",
       "      <td>84956.0</td>\n",
       "    </tr>\n",
       "    <tr>\n",
       "      <th>1</th>\n",
       "      <td>Game Night</td>\n",
       "      <td>2018</td>\n",
       "      <td>85</td>\n",
       "      <td>99.838</td>\n",
       "      <td>John Francis Daley</td>\n",
       "      <td>Jason Bateman, Rachel McAdams, Kyle Chandler, ...</td>\n",
       "      <td>Max and Annie's weekly game night gets kicked ...</td>\n",
       "      <td>117378084.0</td>\n",
       "      <td>Comedy</td>\n",
       "      <td>6.9</td>\n",
       "      <td>66.0</td>\n",
       "      <td>100.0</td>\n",
       "      <td>229292.0</td>\n",
       "    </tr>\n",
       "    <tr>\n",
       "      <th>2</th>\n",
       "      <td>The First Wives Club</td>\n",
       "      <td>1996</td>\n",
       "      <td>49</td>\n",
       "      <td>53.174</td>\n",
       "      <td>Hugh Wilson</td>\n",
       "      <td>Goldie Hawn, Bette Midler, Diane Keaton, Maggi...</td>\n",
       "      <td>Despondent over the marriage of her ex-husband...</td>\n",
       "      <td>181489203.0</td>\n",
       "      <td>Comedy</td>\n",
       "      <td>6.4</td>\n",
       "      <td>58.0</td>\n",
       "      <td>103.0</td>\n",
       "      <td>48413.0</td>\n",
       "    </tr>\n",
       "    <tr>\n",
       "      <th>3</th>\n",
       "      <td>Scary Movie</td>\n",
       "      <td>2000</td>\n",
       "      <td>52</td>\n",
       "      <td>54.973</td>\n",
       "      <td>Keenen Ivory Wayans</td>\n",
       "      <td>Shawn Wayans, Marlon Wayans, Cheri Oteri, Shan...</td>\n",
       "      <td>Defying the very notion of good taste, Scary M...</td>\n",
       "      <td>277200000.0</td>\n",
       "      <td>Comedy</td>\n",
       "      <td>6.2</td>\n",
       "      <td>48.0</td>\n",
       "      <td>88.0</td>\n",
       "      <td>254927.0</td>\n",
       "    </tr>\n",
       "    <tr>\n",
       "      <th>4</th>\n",
       "      <td>Blockers</td>\n",
       "      <td>2018</td>\n",
       "      <td>84</td>\n",
       "      <td>96.883</td>\n",
       "      <td>Kay Cannon</td>\n",
       "      <td>Leslie Mann, Ike Barinholtz, John Cena, Kathry...</td>\n",
       "      <td>Julie, Kayla and Sam are three high school sen...</td>\n",
       "      <td>94523781.0</td>\n",
       "      <td>Comedy</td>\n",
       "      <td>6.2</td>\n",
       "      <td>69.0</td>\n",
       "      <td>102.0</td>\n",
       "      <td>78498.0</td>\n",
       "    </tr>\n",
       "  </tbody>\n",
       "</table>\n",
       "</div>"
      ],
      "text/plain": [
       "                  Movie  Year  Score  Adjusted Score             Director  \\\n",
       "0               Hot Rod  2007     39          42.918       Akiva Schaffer   \n",
       "1            Game Night  2018     85          99.838   John Francis Daley   \n",
       "2  The First Wives Club  1996     49          53.174          Hugh Wilson   \n",
       "3           Scary Movie  2000     52          54.973  Keenen Ivory Wayans   \n",
       "4              Blockers  2018     84          96.883           Kay Cannon   \n",
       "\n",
       "                                                Cast  \\\n",
       "0  Andy Samberg, Jorma Taccone, Bill Hader, Danny...   \n",
       "1  Jason Bateman, Rachel McAdams, Kyle Chandler, ...   \n",
       "2  Goldie Hawn, Bette Midler, Diane Keaton, Maggi...   \n",
       "3  Shawn Wayans, Marlon Wayans, Cheri Oteri, Shan...   \n",
       "4  Leslie Mann, Ike Barinholtz, John Cena, Kathry...   \n",
       "\n",
       "                                           Consensus  Box Office Collection  \\\n",
       "0  For Rod Kimball (Andy Samberg), performing stu...             14371564.0   \n",
       "1  Max and Annie's weekly game night gets kicked ...            117378084.0   \n",
       "2  Despondent over the marriage of her ex-husband...            181489203.0   \n",
       "3  Defying the very notion of good taste, Scary M...            277200000.0   \n",
       "4  Julie, Kayla and Sam are three high school sen...             94523781.0   \n",
       "\n",
       "  Imdb_genre  IMDB Rating  metascore  time_minute     Votes  \n",
       "0     Comedy          6.7       43.0         88.0   84956.0  \n",
       "1     Comedy          6.9       66.0        100.0  229292.0  \n",
       "2     Comedy          6.4       58.0        103.0   48413.0  \n",
       "3     Comedy          6.2       48.0         88.0  254927.0  \n",
       "4     Comedy          6.2       69.0        102.0   78498.0  "
      ]
     },
     "execution_count": 11,
     "metadata": {},
     "output_type": "execute_result"
    }
   ],
   "source": [
    "query = '''\n",
    "select * from movies limit 5\n",
    "'''\n",
    "run_query(query, engine)"
   ]
  },
  {
   "cell_type": "markdown",
   "id": "7f18e7b1",
   "metadata": {},
   "source": [
    "### Select the max rottentomatoes score"
   ]
  },
  {
   "cell_type": "code",
   "execution_count": null,
   "id": "b931408c",
   "metadata": {},
   "outputs": [],
   "source": [
    "query = '''\n",
    "\n",
    "'''\n",
    "run_query(query, engine)"
   ]
  }
 ],
 "metadata": {
  "kernelspec": {
   "display_name": "Python 3 (ipykernel)",
   "language": "python",
   "name": "python3"
  },
  "language_info": {
   "codemirror_mode": {
    "name": "ipython",
    "version": 3
   },
   "file_extension": ".py",
   "mimetype": "text/x-python",
   "name": "python",
   "nbconvert_exporter": "python",
   "pygments_lexer": "ipython3",
   "version": "3.9.7"
  }
 },
 "nbformat": 4,
 "nbformat_minor": 5
}
